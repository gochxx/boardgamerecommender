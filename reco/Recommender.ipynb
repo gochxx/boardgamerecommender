{
 "cells": [
  {
   "cell_type": "markdown",
   "metadata": {},
   "source": [
    "# Reco-Modell erstellen"
   ]
  },
  {
   "cell_type": "code",
   "execution_count": 1,
   "metadata": {},
   "outputs": [],
   "source": [
    "import pandas as pd\n",
    "import re\n",
    "from sklearn.decomposition import PCA\n",
    "from sklearn.metrics.pairwise import euclidean_distances\n",
    "from sklearn.preprocessing import StandardScaler\n",
    "import joblib"
   ]
  },
  {
   "cell_type": "markdown",
   "metadata": {},
   "source": [
    "# Daten laden"
   ]
  },
  {
   "cell_type": "code",
   "execution_count": 2,
   "metadata": {},
   "outputs": [],
   "source": [
    "bgdata = pd.read_pickle(\"../data/bg_data20240302.pkl\")"
   ]
  },
  {
   "cell_type": "code",
   "execution_count": 3,
   "metadata": {},
   "outputs": [
    {
     "data": {
      "text/html": [
       "<div>\n",
       "<style scoped>\n",
       "    .dataframe tbody tr th:only-of-type {\n",
       "        vertical-align: middle;\n",
       "    }\n",
       "\n",
       "    .dataframe tbody tr th {\n",
       "        vertical-align: top;\n",
       "    }\n",
       "\n",
       "    .dataframe thead th {\n",
       "        text-align: right;\n",
       "    }\n",
       "</style>\n",
       "<table border=\"1\" class=\"dataframe\">\n",
       "  <thead>\n",
       "    <tr style=\"text-align: right;\">\n",
       "      <th></th>\n",
       "      <th>id</th>\n",
       "      <th>name</th>\n",
       "      <th>yearpublished</th>\n",
       "      <th>rank</th>\n",
       "      <th>bayesaverage</th>\n",
       "      <th>average</th>\n",
       "      <th>usersrated</th>\n",
       "      <th>abstracts_rank</th>\n",
       "      <th>cgs_rank</th>\n",
       "      <th>childrensgames_rank</th>\n",
       "      <th>...</th>\n",
       "      <th>boardgameintegration</th>\n",
       "      <th>boardgamegraphicdesigner</th>\n",
       "      <th>boardgameeditor</th>\n",
       "      <th>boardgamewriter</th>\n",
       "      <th>boardgamesculptor</th>\n",
       "      <th>boardgamesolodesigner</th>\n",
       "      <th>boardgamecompilation</th>\n",
       "      <th>boardgameinsertdesigner</th>\n",
       "      <th>boardgame</th>\n",
       "      <th>boardgameissuearticle</th>\n",
       "    </tr>\n",
       "  </thead>\n",
       "  <tbody>\n",
       "    <tr>\n",
       "      <th>0</th>\n",
       "      <td>224517</td>\n",
       "      <td>Brass: Birmingham</td>\n",
       "      <td>2018</td>\n",
       "      <td>1</td>\n",
       "      <td>8.41720</td>\n",
       "      <td>8.60057</td>\n",
       "      <td>43723</td>\n",
       "      <td>NaN</td>\n",
       "      <td>NaN</td>\n",
       "      <td>NaN</td>\n",
       "      <td>...</td>\n",
       "      <td>NaN</td>\n",
       "      <td>NaN</td>\n",
       "      <td>NaN</td>\n",
       "      <td>NaN</td>\n",
       "      <td>NaN</td>\n",
       "      <td>NaN</td>\n",
       "      <td>NaN</td>\n",
       "      <td>NaN</td>\n",
       "      <td>NaN</td>\n",
       "      <td>NaN</td>\n",
       "    </tr>\n",
       "    <tr>\n",
       "      <th>1</th>\n",
       "      <td>161936</td>\n",
       "      <td>Pandemic Legacy: Season 1</td>\n",
       "      <td>2015</td>\n",
       "      <td>2</td>\n",
       "      <td>8.38410</td>\n",
       "      <td>8.53050</td>\n",
       "      <td>52692</td>\n",
       "      <td>NaN</td>\n",
       "      <td>NaN</td>\n",
       "      <td>NaN</td>\n",
       "      <td>...</td>\n",
       "      <td>NaN</td>\n",
       "      <td>NaN</td>\n",
       "      <td>NaN</td>\n",
       "      <td>NaN</td>\n",
       "      <td>NaN</td>\n",
       "      <td>NaN</td>\n",
       "      <td>NaN</td>\n",
       "      <td>NaN</td>\n",
       "      <td>NaN</td>\n",
       "      <td>NaN</td>\n",
       "    </tr>\n",
       "    <tr>\n",
       "      <th>2</th>\n",
       "      <td>174430</td>\n",
       "      <td>Gloomhaven</td>\n",
       "      <td>2017</td>\n",
       "      <td>3</td>\n",
       "      <td>8.36528</td>\n",
       "      <td>8.59903</td>\n",
       "      <td>61211</td>\n",
       "      <td>NaN</td>\n",
       "      <td>NaN</td>\n",
       "      <td>NaN</td>\n",
       "      <td>...</td>\n",
       "      <td>['Frosthaven', 'Gloomhaven: Jaws of the Lion',...</td>\n",
       "      <td>NaN</td>\n",
       "      <td>NaN</td>\n",
       "      <td>NaN</td>\n",
       "      <td>NaN</td>\n",
       "      <td>NaN</td>\n",
       "      <td>NaN</td>\n",
       "      <td>NaN</td>\n",
       "      <td>NaN</td>\n",
       "      <td>NaN</td>\n",
       "    </tr>\n",
       "    <tr>\n",
       "      <th>3</th>\n",
       "      <td>342942</td>\n",
       "      <td>Ark Nova</td>\n",
       "      <td>2021</td>\n",
       "      <td>4</td>\n",
       "      <td>8.33138</td>\n",
       "      <td>8.53762</td>\n",
       "      <td>40218</td>\n",
       "      <td>NaN</td>\n",
       "      <td>NaN</td>\n",
       "      <td>NaN</td>\n",
       "      <td>...</td>\n",
       "      <td>NaN</td>\n",
       "      <td>['Steffen Bieker', 'Christof Tisch']</td>\n",
       "      <td>['Frank Heeren', 'Inga Keutmann', 'Bastian Win...</td>\n",
       "      <td>NaN</td>\n",
       "      <td>NaN</td>\n",
       "      <td>NaN</td>\n",
       "      <td>NaN</td>\n",
       "      <td>NaN</td>\n",
       "      <td>NaN</td>\n",
       "      <td>NaN</td>\n",
       "    </tr>\n",
       "    <tr>\n",
       "      <th>4</th>\n",
       "      <td>233078</td>\n",
       "      <td>Twilight Imperium: Fourth Edition</td>\n",
       "      <td>2017</td>\n",
       "      <td>5</td>\n",
       "      <td>8.24165</td>\n",
       "      <td>8.60615</td>\n",
       "      <td>22955</td>\n",
       "      <td>NaN</td>\n",
       "      <td>NaN</td>\n",
       "      <td>NaN</td>\n",
       "      <td>...</td>\n",
       "      <td>NaN</td>\n",
       "      <td>Shaun Boyke</td>\n",
       "      <td>NaN</td>\n",
       "      <td>['Adam Baker', 'Daniel Clark (I)']</td>\n",
       "      <td>NaN</td>\n",
       "      <td>NaN</td>\n",
       "      <td>NaN</td>\n",
       "      <td>NaN</td>\n",
       "      <td>NaN</td>\n",
       "      <td>NaN</td>\n",
       "    </tr>\n",
       "  </tbody>\n",
       "</table>\n",
       "<p>5 rows × 56 columns</p>\n",
       "</div>"
      ],
      "text/plain": [
       "       id                               name  yearpublished  rank  \\\n",
       "0  224517                  Brass: Birmingham           2018     1   \n",
       "1  161936          Pandemic Legacy: Season 1           2015     2   \n",
       "2  174430                         Gloomhaven           2017     3   \n",
       "3  342942                           Ark Nova           2021     4   \n",
       "4  233078  Twilight Imperium: Fourth Edition           2017     5   \n",
       "\n",
       "   bayesaverage  average  usersrated  abstracts_rank  cgs_rank  \\\n",
       "0       8.41720  8.60057       43723             NaN       NaN   \n",
       "1       8.38410  8.53050       52692             NaN       NaN   \n",
       "2       8.36528  8.59903       61211             NaN       NaN   \n",
       "3       8.33138  8.53762       40218             NaN       NaN   \n",
       "4       8.24165  8.60615       22955             NaN       NaN   \n",
       "\n",
       "   childrensgames_rank  ...  \\\n",
       "0                  NaN  ...   \n",
       "1                  NaN  ...   \n",
       "2                  NaN  ...   \n",
       "3                  NaN  ...   \n",
       "4                  NaN  ...   \n",
       "\n",
       "                                boardgameintegration  \\\n",
       "0                                                NaN   \n",
       "1                                                NaN   \n",
       "2  ['Frosthaven', 'Gloomhaven: Jaws of the Lion',...   \n",
       "3                                                NaN   \n",
       "4                                                NaN   \n",
       "\n",
       "               boardgamegraphicdesigner  \\\n",
       "0                                   NaN   \n",
       "1                                   NaN   \n",
       "2                                   NaN   \n",
       "3  ['Steffen Bieker', 'Christof Tisch']   \n",
       "4                           Shaun Boyke   \n",
       "\n",
       "                                     boardgameeditor  \\\n",
       "0                                                NaN   \n",
       "1                                                NaN   \n",
       "2                                                NaN   \n",
       "3  ['Frank Heeren', 'Inga Keutmann', 'Bastian Win...   \n",
       "4                                                NaN   \n",
       "\n",
       "                      boardgamewriter  boardgamesculptor  \\\n",
       "0                                 NaN                NaN   \n",
       "1                                 NaN                NaN   \n",
       "2                                 NaN                NaN   \n",
       "3                                 NaN                NaN   \n",
       "4  ['Adam Baker', 'Daniel Clark (I)']                NaN   \n",
       "\n",
       "  boardgamesolodesigner boardgamecompilation boardgameinsertdesigner  \\\n",
       "0                   NaN                  NaN                     NaN   \n",
       "1                   NaN                  NaN                     NaN   \n",
       "2                   NaN                  NaN                     NaN   \n",
       "3                   NaN                  NaN                     NaN   \n",
       "4                   NaN                  NaN                     NaN   \n",
       "\n",
       "  boardgame boardgameissuearticle  \n",
       "0       NaN                   NaN  \n",
       "1       NaN                   NaN  \n",
       "2       NaN                   NaN  \n",
       "3       NaN                   NaN  \n",
       "4       NaN                   NaN  \n",
       "\n",
       "[5 rows x 56 columns]"
      ]
     },
     "execution_count": 3,
     "metadata": {},
     "output_type": "execute_result"
    }
   ],
   "source": [
    "bgdata.head()"
   ]
  },
  {
   "cell_type": "code",
   "execution_count": 4,
   "metadata": {},
   "outputs": [],
   "source": [
    "# Doppelte Spalten \"name\" umbenennen:\n",
    "colnames = bgdata.columns.tolist()\n",
    "for y, new in zip([i for i, n in enumerate(bgdata.columns) if n == \"name\"], [\"name\", \"other_names\"]):\n",
    "    colnames[y] = new\n",
    "bgdata.columns = colnames"
   ]
  },
  {
   "cell_type": "code",
   "execution_count": 5,
   "metadata": {},
   "outputs": [],
   "source": [
    "# weitere doppelte Spalten entfernen\n",
    "bgdata = bgdata.loc[:,~bgdata.columns.duplicated()].copy()"
   ]
  },
  {
   "cell_type": "code",
   "execution_count": 6,
   "metadata": {},
   "outputs": [
    {
     "data": {
      "text/plain": [
       "Index(['id', 'name', 'yearpublished', 'rank', 'bayesaverage', 'average',\n",
       "       'usersrated', 'abstracts_rank', 'cgs_rank', 'childrensgames_rank',\n",
       "       'familygames_rank', 'partygames_rank', 'strategygames_rank',\n",
       "       'thematic_rank', 'wargames_rank', 'minplayers', 'maxplayers',\n",
       "       'playingtime', 'minplaytime', 'maxplaytime', 'age', 'other_names',\n",
       "       'description', 'thumbnail', 'image', 'boardgameaccessory',\n",
       "       'boardgamepublisher', 'cardset', 'boardgamepodcastepisode',\n",
       "       'boardgamehonor', 'boardgamecategory', 'videogamebg',\n",
       "       'boardgamedesigner', 'boardgameartist', 'boardgameversion',\n",
       "       'boardgamefamily', 'boardgamemechanic', 'boardgamesubdomain',\n",
       "       'boardgameimplementation', 'suggested_numplayers',\n",
       "       'language_dependence', 'suggested_playerage', 'rpgpodcastepisode',\n",
       "       'boardgameexpansion', 'boardgamedeveloper', 'boardgameintegration',\n",
       "       'boardgamegraphicdesigner', 'boardgameeditor', 'boardgamewriter',\n",
       "       'boardgamesculptor', 'boardgamesolodesigner', 'boardgamecompilation',\n",
       "       'boardgameinsertdesigner', 'boardgame', 'boardgameissuearticle'],\n",
       "      dtype='object')"
      ]
     },
     "execution_count": 6,
     "metadata": {},
     "output_type": "execute_result"
    }
   ],
   "source": [
    "bgdata.columns"
   ]
  },
  {
   "cell_type": "markdown",
   "metadata": {},
   "source": [
    "# Categories vercoden"
   ]
  },
  {
   "cell_type": "code",
   "execution_count": 7,
   "metadata": {},
   "outputs": [],
   "source": [
    "bgdata[\"boardgamecategory\"] = bgdata.boardgamecategory.apply(lambda x: re.sub(\"['\\[\\]^\\s+]\", '', x).split(\",\"))"
   ]
  },
  {
   "cell_type": "code",
   "execution_count": 8,
   "metadata": {},
   "outputs": [],
   "source": [
    "categories = pd.get_dummies(bgdata.boardgamecategory.apply(pd.Series), prefix = \"cat\")"
   ]
  },
  {
   "cell_type": "code",
   "execution_count": 9,
   "metadata": {},
   "outputs": [],
   "source": [
    "categories = categories.groupby(categories.columns, axis=1).max()"
   ]
  },
  {
   "cell_type": "code",
   "execution_count": 10,
   "metadata": {},
   "outputs": [],
   "source": [
    "# Top-Kategorien ermitteln\n",
    "topcat = categories.sum().sort_values(ascending=False).index.to_list()"
   ]
  },
  {
   "cell_type": "code",
   "execution_count": 11,
   "metadata": {},
   "outputs": [
    {
     "data": {
      "text/plain": [
       "['../data/pca_cat.pkl']"
      ]
     },
     "execution_count": 11,
     "metadata": {},
     "output_type": "execute_result"
    }
   ],
   "source": [
    "# 20 Komponenten extrahieren\n",
    "ncomp = 20\n",
    "pca = PCA(n_components=ncomp)\n",
    "pca.fit(categories[topcat])\n",
    "joblib.dump(pca, \"../data/pca_cat.pkl\")"
   ]
  },
  {
   "cell_type": "code",
   "execution_count": 12,
   "metadata": {},
   "outputs": [
    {
     "data": {
      "text/plain": [
       "<matplotlib.axes._subplots.AxesSubplot at 0x1ade36e8df0>"
      ]
     },
     "execution_count": 12,
     "metadata": {},
     "output_type": "execute_result"
    },
    {
     "data": {
      "image/png": "[encoded data removed]",
      "text/plain": [
       "<Figure size 432x288 with 1 Axes>"
      ]
     },
     "metadata": {
      "needs_background": "light"
     },
     "output_type": "display_data"
    }
   ],
   "source": [
    "pd.DataFrame(pca.explained_variance_ratio_).cumsum().plot()"
   ]
  },
  {
   "cell_type": "code",
   "execution_count": 13,
   "metadata": {},
   "outputs": [],
   "source": [
    "categories_pca = pd.DataFrame(pca.transform(categories), columns=[\"catp_\" + str(x) for x in range(ncomp)])"
   ]
  },
  {
   "cell_type": "code",
   "execution_count": 14,
   "metadata": {},
   "outputs": [],
   "source": [
    "bgdata = pd.concat([bgdata,categories_pca], axis=1)"
   ]
  },
  {
   "cell_type": "markdown",
   "metadata": {},
   "source": [
    "# Mechanik"
   ]
  },
  {
   "cell_type": "code",
   "execution_count": 15,
   "metadata": {},
   "outputs": [],
   "source": [
    "bgdata[\"boardgamemechanic\"] = bgdata.boardgamemechanic.apply(lambda x: re.sub(\"['\\[\\]^\\s+]\", '', x).split(\",\"))"
   ]
  },
  {
   "cell_type": "code",
   "execution_count": 16,
   "metadata": {},
   "outputs": [],
   "source": [
    "mechanic = pd.get_dummies(bgdata.boardgamemechanic.apply(pd.Series), prefix = \"mec\")"
   ]
  },
  {
   "cell_type": "code",
   "execution_count": 17,
   "metadata": {},
   "outputs": [],
   "source": [
    "mechanic = mechanic.groupby(mechanic.columns, axis=1).max()"
   ]
  },
  {
   "cell_type": "code",
   "execution_count": 18,
   "metadata": {},
   "outputs": [],
   "source": [
    "# Top-Mechaniken ermitteln (später für Reco-Datensatz)\n",
    "topmec = mechanic.sum().sort_values(ascending=False).index.to_list()"
   ]
  },
  {
   "cell_type": "code",
   "execution_count": 19,
   "metadata": {},
   "outputs": [
    {
     "data": {
      "text/plain": [
       "PCA(n_components=20)"
      ]
     },
     "execution_count": 19,
     "metadata": {},
     "output_type": "execute_result"
    }
   ],
   "source": [
    "ncomp = 20\n",
    "pca = PCA(n_components=ncomp)\n",
    "pca.fit(mechanic[topmec])"
   ]
  },
  {
   "cell_type": "code",
   "execution_count": 20,
   "metadata": {},
   "outputs": [
    {
     "data": {
      "text/plain": [
       "['../data/pca_mec.pkl']"
      ]
     },
     "execution_count": 20,
     "metadata": {},
     "output_type": "execute_result"
    }
   ],
   "source": [
    "joblib.dump(pca, \"../data/pca_mec.pkl\")"
   ]
  },
  {
   "cell_type": "code",
   "execution_count": 21,
   "metadata": {},
   "outputs": [
    {
     "data": {
      "text/plain": [
       "<matplotlib.axes._subplots.AxesSubplot at 0x1ade38d4190>"
      ]
     },
     "execution_count": 21,
     "metadata": {},
     "output_type": "execute_result"
    },
    {
     "data": {
      "image/png": "[encoded data removed]",
      "text/plain": [
       "<Figure size 432x288 with 1 Axes>"
      ]
     },
     "metadata": {
      "needs_background": "light"
     },
     "output_type": "display_data"
    }
   ],
   "source": [
    "pd.DataFrame(pca.explained_variance_ratio_).cumsum().plot()"
   ]
  },
  {
   "cell_type": "code",
   "execution_count": 22,
   "metadata": {},
   "outputs": [],
   "source": [
    "mechanic_pca = pd.DataFrame(pca.transform(mechanic), columns=[\"mecp_\" + str(x) for x in range(ncomp)])"
   ]
  },
  {
   "cell_type": "code",
   "execution_count": 23,
   "metadata": {},
   "outputs": [],
   "source": [
    "bgdata = pd.concat([bgdata,mechanic_pca], axis=1)"
   ]
  },
  {
   "cell_type": "code",
   "execution_count": 24,
   "metadata": {},
   "outputs": [
    {
     "data": {
      "text/plain": [
       "Index(['id', 'name', 'yearpublished', 'rank', 'bayesaverage', 'average',\n",
       "       'usersrated', 'abstracts_rank', 'cgs_rank', 'childrensgames_rank',\n",
       "       'familygames_rank', 'partygames_rank', 'strategygames_rank',\n",
       "       'thematic_rank', 'wargames_rank', 'minplayers', 'maxplayers',\n",
       "       'playingtime', 'minplaytime', 'maxplaytime', 'age', 'other_names',\n",
       "       'description', 'thumbnail', 'image', 'boardgameaccessory',\n",
       "       'boardgamepublisher', 'cardset', 'boardgamepodcastepisode',\n",
       "       'boardgamehonor', 'boardgamecategory', 'videogamebg',\n",
       "       'boardgamedesigner', 'boardgameartist', 'boardgameversion',\n",
       "       'boardgamefamily', 'boardgamemechanic', 'boardgamesubdomain',\n",
       "       'boardgameimplementation', 'suggested_numplayers',\n",
       "       'language_dependence', 'suggested_playerage', 'rpgpodcastepisode',\n",
       "       'boardgameexpansion', 'boardgamedeveloper', 'boardgameintegration',\n",
       "       'boardgamegraphicdesigner', 'boardgameeditor', 'boardgamewriter',\n",
       "       'boardgamesculptor', 'boardgamesolodesigner', 'boardgamecompilation',\n",
       "       'boardgameinsertdesigner', 'boardgame', 'boardgameissuearticle',\n",
       "       'catp_0', 'catp_1', 'catp_2', 'catp_3', 'catp_4', 'catp_5', 'catp_6',\n",
       "       'catp_7', 'catp_8', 'catp_9', 'catp_10', 'catp_11', 'catp_12',\n",
       "       'catp_13', 'catp_14', 'catp_15', 'catp_16', 'catp_17', 'catp_18',\n",
       "       'catp_19', 'mecp_0', 'mecp_1', 'mecp_2', 'mecp_3', 'mecp_4', 'mecp_5',\n",
       "       'mecp_6', 'mecp_7', 'mecp_8', 'mecp_9', 'mecp_10', 'mecp_11', 'mecp_12',\n",
       "       'mecp_13', 'mecp_14', 'mecp_15', 'mecp_16', 'mecp_17', 'mecp_18',\n",
       "       'mecp_19'],\n",
       "      dtype='object')"
      ]
     },
     "execution_count": 24,
     "metadata": {},
     "output_type": "execute_result"
    }
   ],
   "source": [
    "bgdata.columns"
   ]
  },
  {
   "cell_type": "markdown",
   "metadata": {},
   "source": [
    "# X_Train"
   ]
  },
  {
   "cell_type": "code",
   "execution_count": 25,
   "metadata": {},
   "outputs": [],
   "source": [
    "allfeat = ['yearpublished', 'playingtime', 'age'] "
   ]
  },
  {
   "cell_type": "code",
   "execution_count": 26,
   "metadata": {},
   "outputs": [],
   "source": [
    "feat = allfeat + [\"catp_\" + str(x) for x in range(10)] + [\"mecp_\" + str(x) for x in range(10)]"
   ]
  },
  {
   "cell_type": "code",
   "execution_count": 27,
   "metadata": {},
   "outputs": [],
   "source": [
    "x_train = bgdata[feat].copy()"
   ]
  },
  {
   "cell_type": "code",
   "execution_count": 36,
   "metadata": {},
   "outputs": [],
   "source": [
    "#z-Transformation\n",
    "scaler = StandardScaler()\n",
    "for x in allfeat:\n",
    "     x_train[x] = scaler.fit_transform(x_train[x].values.reshape(-1, 1))\n",
    "     joblib.dump(scaler, f\"../data/scaler_{x}.pkl\")"
   ]
  },
  {
   "cell_type": "code",
   "execution_count": 29,
   "metadata": {},
   "outputs": [
    {
     "data": {
      "text/html": [
       "<div>\n",
       "<style scoped>\n",
       "    .dataframe tbody tr th:only-of-type {\n",
       "        vertical-align: middle;\n",
       "    }\n",
       "\n",
       "    .dataframe tbody tr th {\n",
       "        vertical-align: top;\n",
       "    }\n",
       "\n",
       "    .dataframe thead th {\n",
       "        text-align: right;\n",
       "    }\n",
       "</style>\n",
       "<table border=\"1\" class=\"dataframe\">\n",
       "  <thead>\n",
       "    <tr style=\"text-align: right;\">\n",
       "      <th></th>\n",
       "      <th>yearpublished</th>\n",
       "      <th>playingtime</th>\n",
       "      <th>age</th>\n",
       "      <th>catp_0</th>\n",
       "      <th>catp_1</th>\n",
       "      <th>catp_2</th>\n",
       "      <th>catp_3</th>\n",
       "      <th>catp_4</th>\n",
       "      <th>catp_5</th>\n",
       "      <th>catp_6</th>\n",
       "      <th>...</th>\n",
       "      <th>mecp_0</th>\n",
       "      <th>mecp_1</th>\n",
       "      <th>mecp_2</th>\n",
       "      <th>mecp_3</th>\n",
       "      <th>mecp_4</th>\n",
       "      <th>mecp_5</th>\n",
       "      <th>mecp_6</th>\n",
       "      <th>mecp_7</th>\n",
       "      <th>mecp_8</th>\n",
       "      <th>mecp_9</th>\n",
       "    </tr>\n",
       "  </thead>\n",
       "  <tbody>\n",
       "    <tr>\n",
       "      <th>0</th>\n",
       "      <td>0.071191</td>\n",
       "      <td>0.203272</td>\n",
       "      <td>0.930811</td>\n",
       "      <td>0.114387</td>\n",
       "      <td>0.146996</td>\n",
       "      <td>0.888913</td>\n",
       "      <td>0.163176</td>\n",
       "      <td>-0.241265</td>\n",
       "      <td>-0.084652</td>\n",
       "      <td>-0.157232</td>\n",
       "      <td>...</td>\n",
       "      <td>-0.401278</td>\n",
       "      <td>-0.396593</td>\n",
       "      <td>-0.425809</td>\n",
       "      <td>-0.391436</td>\n",
       "      <td>-0.148681</td>\n",
       "      <td>0.144935</td>\n",
       "      <td>0.216138</td>\n",
       "      <td>0.357997</td>\n",
       "      <td>-0.000798</td>\n",
       "      <td>-0.160545</td>\n",
       "    </tr>\n",
       "    <tr>\n",
       "      <th>1</th>\n",
       "      <td>0.055401</td>\n",
       "      <td>-0.456488</td>\n",
       "      <td>0.465870</td>\n",
       "      <td>0.029257</td>\n",
       "      <td>0.004519</td>\n",
       "      <td>0.156788</td>\n",
       "      <td>-0.428745</td>\n",
       "      <td>0.007001</td>\n",
       "      <td>-0.170337</td>\n",
       "      <td>0.003780</td>\n",
       "      <td>...</td>\n",
       "      <td>-0.532322</td>\n",
       "      <td>-0.080151</td>\n",
       "      <td>-0.315221</td>\n",
       "      <td>-0.509416</td>\n",
       "      <td>-0.220625</td>\n",
       "      <td>-0.233305</td>\n",
       "      <td>-0.001377</td>\n",
       "      <td>0.095985</td>\n",
       "      <td>-0.425409</td>\n",
       "      <td>-0.088683</td>\n",
       "    </tr>\n",
       "    <tr>\n",
       "      <th>2</th>\n",
       "      <td>0.065928</td>\n",
       "      <td>0.203272</td>\n",
       "      <td>0.930811</td>\n",
       "      <td>0.296741</td>\n",
       "      <td>0.021549</td>\n",
       "      <td>0.206148</td>\n",
       "      <td>-0.414754</td>\n",
       "      <td>-0.272744</td>\n",
       "      <td>0.056760</td>\n",
       "      <td>0.057544</td>\n",
       "      <td>...</td>\n",
       "      <td>-0.400074</td>\n",
       "      <td>-0.212489</td>\n",
       "      <td>-0.038857</td>\n",
       "      <td>0.094609</td>\n",
       "      <td>-0.026139</td>\n",
       "      <td>-0.215601</td>\n",
       "      <td>0.418258</td>\n",
       "      <td>0.853947</td>\n",
       "      <td>0.464707</td>\n",
       "      <td>-0.264045</td>\n",
       "    </tr>\n",
       "    <tr>\n",
       "      <th>3</th>\n",
       "      <td>0.086981</td>\n",
       "      <td>0.533152</td>\n",
       "      <td>0.930811</td>\n",
       "      <td>0.400333</td>\n",
       "      <td>-0.138612</td>\n",
       "      <td>0.193834</td>\n",
       "      <td>-0.310052</td>\n",
       "      <td>-0.116237</td>\n",
       "      <td>0.006629</td>\n",
       "      <td>0.377529</td>\n",
       "      <td>...</td>\n",
       "      <td>-0.385041</td>\n",
       "      <td>-0.398846</td>\n",
       "      <td>-0.364364</td>\n",
       "      <td>-0.451184</td>\n",
       "      <td>-0.242280</td>\n",
       "      <td>0.172563</td>\n",
       "      <td>0.183530</td>\n",
       "      <td>0.409912</td>\n",
       "      <td>0.121848</td>\n",
       "      <td>-0.204710</td>\n",
       "    </tr>\n",
       "    <tr>\n",
       "      <th>4</th>\n",
       "      <td>0.065928</td>\n",
       "      <td>4.161830</td>\n",
       "      <td>0.930811</td>\n",
       "      <td>-0.055871</td>\n",
       "      <td>0.038644</td>\n",
       "      <td>0.132481</td>\n",
       "      <td>-0.654183</td>\n",
       "      <td>-0.149322</td>\n",
       "      <td>-0.137115</td>\n",
       "      <td>-0.215201</td>\n",
       "      <td>...</td>\n",
       "      <td>-0.214777</td>\n",
       "      <td>-0.318108</td>\n",
       "      <td>0.001324</td>\n",
       "      <td>-0.096123</td>\n",
       "      <td>-0.374403</td>\n",
       "      <td>0.510496</td>\n",
       "      <td>0.329675</td>\n",
       "      <td>0.189816</td>\n",
       "      <td>-0.193680</td>\n",
       "      <td>0.889452</td>\n",
       "    </tr>\n",
       "    <tr>\n",
       "      <th>...</th>\n",
       "      <td>...</td>\n",
       "      <td>...</td>\n",
       "      <td>...</td>\n",
       "      <td>...</td>\n",
       "      <td>...</td>\n",
       "      <td>...</td>\n",
       "      <td>...</td>\n",
       "      <td>...</td>\n",
       "      <td>...</td>\n",
       "      <td>...</td>\n",
       "      <td>...</td>\n",
       "      <td>...</td>\n",
       "      <td>...</td>\n",
       "      <td>...</td>\n",
       "      <td>...</td>\n",
       "      <td>...</td>\n",
       "      <td>...</td>\n",
       "      <td>...</td>\n",
       "      <td>...</td>\n",
       "      <td>...</td>\n",
       "      <td>...</td>\n",
       "    </tr>\n",
       "    <tr>\n",
       "      <th>495</th>\n",
       "      <td>0.076454</td>\n",
       "      <td>-0.456488</td>\n",
       "      <td>-0.928951</td>\n",
       "      <td>-0.154123</td>\n",
       "      <td>0.017936</td>\n",
       "      <td>0.112128</td>\n",
       "      <td>-0.512495</td>\n",
       "      <td>-0.104575</td>\n",
       "      <td>0.045737</td>\n",
       "      <td>-0.610129</td>\n",
       "      <td>...</td>\n",
       "      <td>-0.416956</td>\n",
       "      <td>-0.399487</td>\n",
       "      <td>-0.440313</td>\n",
       "      <td>-0.482803</td>\n",
       "      <td>-0.286355</td>\n",
       "      <td>0.233850</td>\n",
       "      <td>0.268814</td>\n",
       "      <td>0.226315</td>\n",
       "      <td>-0.007713</td>\n",
       "      <td>-0.238989</td>\n",
       "    </tr>\n",
       "    <tr>\n",
       "      <th>496</th>\n",
       "      <td>0.050138</td>\n",
       "      <td>0.863032</td>\n",
       "      <td>-5.578356</td>\n",
       "      <td>-0.146553</td>\n",
       "      <td>0.039527</td>\n",
       "      <td>0.080832</td>\n",
       "      <td>-0.388236</td>\n",
       "      <td>0.419563</td>\n",
       "      <td>0.266470</td>\n",
       "      <td>0.192569</td>\n",
       "      <td>...</td>\n",
       "      <td>-0.213640</td>\n",
       "      <td>-0.471083</td>\n",
       "      <td>-0.190303</td>\n",
       "      <td>-0.584183</td>\n",
       "      <td>-0.150393</td>\n",
       "      <td>-0.068663</td>\n",
       "      <td>0.500554</td>\n",
       "      <td>-0.103065</td>\n",
       "      <td>0.115324</td>\n",
       "      <td>-0.069598</td>\n",
       "    </tr>\n",
       "    <tr>\n",
       "      <th>497</th>\n",
       "      <td>0.071191</td>\n",
       "      <td>-0.951307</td>\n",
       "      <td>-2.323773</td>\n",
       "      <td>-0.582296</td>\n",
       "      <td>-0.304206</td>\n",
       "      <td>0.067447</td>\n",
       "      <td>-0.009374</td>\n",
       "      <td>-0.461182</td>\n",
       "      <td>0.046039</td>\n",
       "      <td>0.497544</td>\n",
       "      <td>...</td>\n",
       "      <td>-0.089168</td>\n",
       "      <td>-0.415556</td>\n",
       "      <td>-0.288088</td>\n",
       "      <td>-0.344637</td>\n",
       "      <td>-0.727625</td>\n",
       "      <td>0.056554</td>\n",
       "      <td>0.445740</td>\n",
       "      <td>0.222771</td>\n",
       "      <td>-0.131242</td>\n",
       "      <td>-0.069017</td>\n",
       "    </tr>\n",
       "    <tr>\n",
       "      <th>498</th>\n",
       "      <td>0.060664</td>\n",
       "      <td>-0.456488</td>\n",
       "      <td>-0.928951</td>\n",
       "      <td>-0.263209</td>\n",
       "      <td>-0.178415</td>\n",
       "      <td>0.212424</td>\n",
       "      <td>-0.118129</td>\n",
       "      <td>0.364551</td>\n",
       "      <td>0.396565</td>\n",
       "      <td>-0.467254</td>\n",
       "      <td>...</td>\n",
       "      <td>-0.269596</td>\n",
       "      <td>-0.313359</td>\n",
       "      <td>0.102110</td>\n",
       "      <td>-0.183096</td>\n",
       "      <td>-0.567234</td>\n",
       "      <td>0.606071</td>\n",
       "      <td>0.143456</td>\n",
       "      <td>0.027521</td>\n",
       "      <td>-0.073273</td>\n",
       "      <td>0.072899</td>\n",
       "    </tr>\n",
       "    <tr>\n",
       "      <th>499</th>\n",
       "      <td>0.044875</td>\n",
       "      <td>-0.126608</td>\n",
       "      <td>-0.928951</td>\n",
       "      <td>-0.102187</td>\n",
       "      <td>0.069275</td>\n",
       "      <td>0.172404</td>\n",
       "      <td>-0.439321</td>\n",
       "      <td>0.016689</td>\n",
       "      <td>0.016195</td>\n",
       "      <td>-0.021554</td>\n",
       "      <td>...</td>\n",
       "      <td>-0.567403</td>\n",
       "      <td>-0.101131</td>\n",
       "      <td>-0.257510</td>\n",
       "      <td>-0.493132</td>\n",
       "      <td>-0.181391</td>\n",
       "      <td>-0.217873</td>\n",
       "      <td>-0.003827</td>\n",
       "      <td>0.036112</td>\n",
       "      <td>-0.524902</td>\n",
       "      <td>0.082868</td>\n",
       "    </tr>\n",
       "  </tbody>\n",
       "</table>\n",
       "<p>500 rows × 23 columns</p>\n",
       "</div>"
      ],
      "text/plain": [
       "     yearpublished  playingtime       age    catp_0    catp_1    catp_2  \\\n",
       "0         0.071191     0.203272  0.930811  0.114387  0.146996  0.888913   \n",
       "1         0.055401    -0.456488  0.465870  0.029257  0.004519  0.156788   \n",
       "2         0.065928     0.203272  0.930811  0.296741  0.021549  0.206148   \n",
       "3         0.086981     0.533152  0.930811  0.400333 -0.138612  0.193834   \n",
       "4         0.065928     4.161830  0.930811 -0.055871  0.038644  0.132481   \n",
       "..             ...          ...       ...       ...       ...       ...   \n",
       "495       0.076454    -0.456488 -0.928951 -0.154123  0.017936  0.112128   \n",
       "496       0.050138     0.863032 -5.578356 -0.146553  0.039527  0.080832   \n",
       "497       0.071191    -0.951307 -2.323773 -0.582296 -0.304206  0.067447   \n",
       "498       0.060664    -0.456488 -0.928951 -0.263209 -0.178415  0.212424   \n",
       "499       0.044875    -0.126608 -0.928951 -0.102187  0.069275  0.172404   \n",
       "\n",
       "       catp_3    catp_4    catp_5    catp_6  ...    mecp_0    mecp_1  \\\n",
       "0    0.163176 -0.241265 -0.084652 -0.157232  ... -0.401278 -0.396593   \n",
       "1   -0.428745  0.007001 -0.170337  0.003780  ... -0.532322 -0.080151   \n",
       "2   -0.414754 -0.272744  0.056760  0.057544  ... -0.400074 -0.212489   \n",
       "3   -0.310052 -0.116237  0.006629  0.377529  ... -0.385041 -0.398846   \n",
       "4   -0.654183 -0.149322 -0.137115 -0.215201  ... -0.214777 -0.318108   \n",
       "..        ...       ...       ...       ...  ...       ...       ...   \n",
       "495 -0.512495 -0.104575  0.045737 -0.610129  ... -0.416956 -0.399487   \n",
       "496 -0.388236  0.419563  0.266470  0.192569  ... -0.213640 -0.471083   \n",
       "497 -0.009374 -0.461182  0.046039  0.497544  ... -0.089168 -0.415556   \n",
       "498 -0.118129  0.364551  0.396565 -0.467254  ... -0.269596 -0.313359   \n",
       "499 -0.439321  0.016689  0.016195 -0.021554  ... -0.567403 -0.101131   \n",
       "\n",
       "       mecp_2    mecp_3    mecp_4    mecp_5    mecp_6    mecp_7    mecp_8  \\\n",
       "0   -0.425809 -0.391436 -0.148681  0.144935  0.216138  0.357997 -0.000798   \n",
       "1   -0.315221 -0.509416 -0.220625 -0.233305 -0.001377  0.095985 -0.425409   \n",
       "2   -0.038857  0.094609 -0.026139 -0.215601  0.418258  0.853947  0.464707   \n",
       "3   -0.364364 -0.451184 -0.242280  0.172563  0.183530  0.409912  0.121848   \n",
       "4    0.001324 -0.096123 -0.374403  0.510496  0.329675  0.189816 -0.193680   \n",
       "..        ...       ...       ...       ...       ...       ...       ...   \n",
       "495 -0.440313 -0.482803 -0.286355  0.233850  0.268814  0.226315 -0.007713   \n",
       "496 -0.190303 -0.584183 -0.150393 -0.068663  0.500554 -0.103065  0.115324   \n",
       "497 -0.288088 -0.344637 -0.727625  0.056554  0.445740  0.222771 -0.131242   \n",
       "498  0.102110 -0.183096 -0.567234  0.606071  0.143456  0.027521 -0.073273   \n",
       "499 -0.257510 -0.493132 -0.181391 -0.217873 -0.003827  0.036112 -0.524902   \n",
       "\n",
       "       mecp_9  \n",
       "0   -0.160545  \n",
       "1   -0.088683  \n",
       "2   -0.264045  \n",
       "3   -0.204710  \n",
       "4    0.889452  \n",
       "..        ...  \n",
       "495 -0.238989  \n",
       "496 -0.069598  \n",
       "497 -0.069017  \n",
       "498  0.072899  \n",
       "499  0.082868  \n",
       "\n",
       "[500 rows x 23 columns]"
      ]
     },
     "execution_count": 29,
     "metadata": {},
     "output_type": "execute_result"
    }
   ],
   "source": [
    "x_train"
   ]
  },
  {
   "cell_type": "markdown",
   "metadata": {},
   "source": [
    "# Reco-Modell"
   ]
  },
  {
   "cell_type": "code",
   "execution_count": 30,
   "metadata": {},
   "outputs": [],
   "source": [
    "recos = pd.DataFrame(euclidean_distances(x_train, x_train))"
   ]
  },
  {
   "cell_type": "code",
   "execution_count": 31,
   "metadata": {},
   "outputs": [],
   "source": [
    "recos.to_pickle(\"../data/recos.pkl\")"
   ]
  },
  {
   "cell_type": "code",
   "execution_count": 32,
   "metadata": {},
   "outputs": [],
   "source": [
    "recos = pd.concat([recos, bgdata[\"name\"]], axis=1)"
   ]
  },
  {
   "cell_type": "code",
   "execution_count": 33,
   "metadata": {},
   "outputs": [
    {
     "data": {
      "text/plain": [
       "70           Mechs vs. Minions\n",
       "382          Star Wars: Armada\n",
       "356                 Cloudspire\n",
       "423    London (Second Edition)\n",
       "19           Brass: Lancashire\n",
       "                ...           \n",
       "446                      Chess\n",
       "496           Fire in the Lake\n",
       "101          The 7th Continent\n",
       "53               Sleeping Gods\n",
       "206                         Go\n",
       "Name: name, Length: 500, dtype: object"
      ]
     },
     "execution_count": 33,
     "metadata": {},
     "output_type": "execute_result"
    }
   ],
   "source": [
    "recos.sort_values(70)[\"name\"]"
   ]
  },
  {
   "cell_type": "markdown",
   "metadata": {},
   "source": [
    "# DataFrame für neue Abfragen erzeugen"
   ]
  },
  {
   "cell_type": "code",
   "execution_count": 34,
   "metadata": {},
   "outputs": [],
   "source": [
    "pd.DataFrame(columns = allfeat + topcat + topmec).to_pickle(\"../data/recodata.pkl\")"
   ]
  },
  {
   "cell_type": "code",
   "execution_count": null,
   "metadata": {},
   "outputs": [],
   "source": []
  }
 ],
 "metadata": {
  "kernelspec": {
   "display_name": "Python 3",
   "language": "python",
   "name": "python3"
  },
  "language_info": {
   "codemirror_mode": {
    "name": "ipython",
    "version": 3
   },
   "file_extension": ".py",
   "mimetype": "text/x-python",
   "name": "python",
   "nbconvert_exporter": "python",
   "pygments_lexer": "ipython3",
   "version": "3.8.3"
  }
 },
 "nbformat": 4,
 "nbformat_minor": 4
}
